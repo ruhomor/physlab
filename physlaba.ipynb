{
  "nbformat": 4,
  "nbformat_minor": 0,
  "metadata": {
    "colab": {
      "name": "physlaba.ipynb",
      "provenance": [],
      "collapsed_sections": [],
      "toc_visible": true,
      "authorship_tag": "ABX9TyPoK+i+J4p3gV3izsKEjz46",
      "include_colab_link": true
    },
    "kernelspec": {
      "name": "python3",
      "display_name": "Python 3"
    },
    "language_info": {
      "name": "python"
    }
  },
  "cells": [
    {
      "cell_type": "markdown",
      "metadata": {
        "id": "view-in-github",
        "colab_type": "text"
      },
      "source": [
        "<a href=\"https://colab.research.google.com/github/ruhomor/physlab/blob/main/physlaba.ipynb\" target=\"_parent\"><img src=\"https://colab.research.google.com/assets/colab-badge.svg\" alt=\"Open In Colab\"/></a>"
      ]
    },
    {
      "cell_type": "code",
      "metadata": {
        "id": "f3xS5d0k1iZe",
        "colab": {
          "base_uri": "https://localhost:8080/",
          "height": 17
        },
        "outputId": "a9b17ebd-b72e-4cc5-e6e2-17ef0eaa9ba3"
      },
      "source": [
        "import matplotlib.pyplot as plt\n",
        "import numpy as np\n",
        "from math import cos, radians, sqrt\n",
        "import datatable as dt\n",
        "\n"
      ],
      "execution_count": 203,
      "outputs": [
        {
          "output_type": "display_data",
          "data": {
            "text/html": [
              "<style type='text/css'>\n",
              ".datatable table.frame { margin-bottom: 0; }\n",
              ".datatable table.frame thead { border-bottom: none; }\n",
              ".datatable table.frame tr.coltypes td {  color: #FFFFFF;  line-height: 6px;  padding: 0 0.5em;}\n",
              ".datatable .bool    { background: #DDDD99; }\n",
              ".datatable .object  { background: #565656; }\n",
              ".datatable .int     { background: #5D9E5D; }\n",
              ".datatable .float   { background: #4040CC; }\n",
              ".datatable .str     { background: #CC4040; }\n",
              ".datatable .time    { background: #40CC40; }\n",
              ".datatable .row_index {  background: var(--jp-border-color3);  border-right: 1px solid var(--jp-border-color0);  color: var(--jp-ui-font-color3);  font-size: 9px;}\n",
              ".datatable .frame tbody td { text-align: left; }\n",
              ".datatable .frame tr.coltypes .row_index {  background: var(--jp-border-color0);}\n",
              ".datatable th:nth-child(2) { padding-left: 12px; }\n",
              ".datatable .hellipsis {  color: var(--jp-cell-editor-border-color);}\n",
              ".datatable .vellipsis {  background: var(--jp-layout-color0);  color: var(--jp-cell-editor-border-color);}\n",
              ".datatable .na {  color: var(--jp-cell-editor-border-color);  font-size: 80%;}\n",
              ".datatable .sp {  opacity: 0.25;}\n",
              ".datatable .footer { font-size: 9px; }\n",
              ".datatable .frame_dimensions {  background: var(--jp-border-color3);  border-top: 1px solid var(--jp-border-color0);  color: var(--jp-ui-font-color3);  display: inline-block;  opacity: 0.6;  padding: 1px 10px 1px 5px;}\n",
              "</style>\n"
            ],
            "text/plain": [
              "<IPython.core.display.HTML object>"
            ]
          },
          "metadata": {}
        }
      ]
    },
    {
      "cell_type": "code",
      "metadata": {
        "colab": {
          "base_uri": "https://localhost:8080/"
        },
        "id": "7QemDLPYXLQn",
        "outputId": "305cea83-2f72-41eb-fc24-d31a5ace4b12"
      },
      "source": [
        "!pip3 install datatable"
      ],
      "execution_count": 202,
      "outputs": [
        {
          "output_type": "stream",
          "name": "stdout",
          "text": [
            "Collecting datatable\n",
            "  Downloading datatable-1.0.0-cp37-cp37m-manylinux_2_12_x86_64.whl (96.9 MB)\n",
            "\u001b[K     |████████████████████████████████| 96.9 MB 91 kB/s \n",
            "\u001b[?25hInstalling collected packages: datatable\n",
            "Successfully installed datatable-1.0.0\n"
          ]
        }
      ]
    },
    {
      "cell_type": "code",
      "metadata": {
        "id": "m74zbwLG1paF"
      },
      "source": [
        "thetas = [\n",
        "         0,\n",
        "         10,\n",
        "         20,\n",
        "         30,\n",
        "         40,\n",
        "         45,\n",
        "         50,\n",
        "         60,\n",
        "         70,\n",
        "         80,\n",
        "         90,\n",
        "         100,\n",
        "         110\n",
        "]\n",
        "OneMinusCosinusTheta = [(1 - cos(radians(th))) for th in thetas]\n",
        "KANAL = [ # KANAL\n",
        "     941,\n",
        "     997,\n",
        "     819,\n",
        "     846,\n",
        "     726,\n",
        "     679,\n",
        "     646,\n",
        "     578,\n",
        "     508,\n",
        "     444,\n",
        "     396,\n",
        "     394,\n",
        "     344\n",
        "]\n",
        "Chastic = [\n",
        "     723615,\n",
        "     202023,\n",
        "     40081,\n",
        "     32360,\n",
        "     41246,\n",
        "     27720,\n",
        "     48546,\n",
        "     97595,\n",
        "     26904,\n",
        "     35106,\n",
        "     88645,\n",
        "     80020,\n",
        "     80864\n",
        "]\n",
        "KANALdividedByOne = [1 / n for n in KANAL]"
      ],
      "execution_count": null,
      "outputs": []
    },
    {
      "cell_type": "code",
      "metadata": {
        "id": "kGjttOCVXcr8"
      },
      "source": [
        "dt_df4  = dt.Frame(theta= thetas, N=KANAL)"
      ],
      "execution_count": 211,
      "outputs": []
    },
    {
      "cell_type": "code",
      "metadata": {
        "colab": {
          "base_uri": "https://localhost:8080/",
          "height": 351
        },
        "id": "B_9AZ2hIXhF0",
        "outputId": "5cbb345d-33fb-4ea3-ea64-3516c735b1d5"
      },
      "source": [
        "dt_df4"
      ],
      "execution_count": 212,
      "outputs": [
        {
          "output_type": "execute_result",
          "data": {
            "text/html": [
              "<div class='datatable'>\n",
              "  <table class='frame'>\n",
              "  <thead>\n",
              "    <tr class='colnames'><td class='row_index'></td><th>theta</th><th>N</th></tr>\n",
              "    <tr class='coltypes'><td class='row_index'></td><td class='int' title='int32'>&#x25AA;&#x25AA;&#x25AA;&#x25AA;</td><td class='int' title='int32'>&#x25AA;&#x25AA;&#x25AA;&#x25AA;</td></tr>\n",
              "  </thead>\n",
              "  <tbody>\n",
              "    <tr><td class='row_index'>0</td><td>0</td><td>941</td></tr>\n",
              "    <tr><td class='row_index'>1</td><td>10</td><td>997</td></tr>\n",
              "    <tr><td class='row_index'>2</td><td>20</td><td>819</td></tr>\n",
              "    <tr><td class='row_index'>3</td><td>30</td><td>846</td></tr>\n",
              "    <tr><td class='row_index'>4</td><td>40</td><td>726</td></tr>\n",
              "    <tr><td class='row_index'>5</td><td>45</td><td>679</td></tr>\n",
              "    <tr><td class='row_index'>6</td><td>50</td><td>646</td></tr>\n",
              "    <tr><td class='row_index'>7</td><td>60</td><td>578</td></tr>\n",
              "    <tr><td class='row_index'>8</td><td>70</td><td>508</td></tr>\n",
              "    <tr><td class='row_index'>9</td><td>80</td><td>444</td></tr>\n",
              "    <tr><td class='row_index'>10</td><td>90</td><td>396</td></tr>\n",
              "    <tr><td class='row_index'>11</td><td>100</td><td>394</td></tr>\n",
              "    <tr><td class='row_index'>12</td><td>110</td><td>344</td></tr>\n",
              "  </tbody>\n",
              "  </table>\n",
              "  <div class='footer'>\n",
              "    <div class='frame_dimensions'>13 rows &times; 2 columns</div>\n",
              "  </div>\n",
              "</div>\n"
            ],
            "text/plain": [
              "<Frame#7fc047624a50 13x2>"
            ]
          },
          "metadata": {},
          "execution_count": 212
        }
      ]
    },
    {
      "cell_type": "code",
      "metadata": {
        "colab": {
          "base_uri": "https://localhost:8080/"
        },
        "id": "GTJthSHn3VuF",
        "outputId": "d34a1b4b-60c6-4004-dd0b-38503402013c"
      },
      "source": [
        "1 / 723615"
      ],
      "execution_count": null,
      "outputs": [
        {
          "output_type": "execute_result",
          "data": {
            "text/plain": [
              "1.3819503465240495e-06"
            ]
          },
          "metadata": {},
          "execution_count": 20
        }
      ]
    },
    {
      "cell_type": "code",
      "metadata": {
        "colab": {
          "base_uri": "https://localhost:8080/"
        },
        "id": "9TfXHuBU3YGz",
        "outputId": "7ce1657d-d78e-46cd-e520-ec1a3e152298"
      },
      "source": [
        "KANALdividedByOne"
      ],
      "execution_count": null,
      "outputs": [
        {
          "output_type": "execute_result",
          "data": {
            "text/plain": [
              "[0.0010030090270812437,\n",
              " 0.001221001221001221,\n",
              " 0.001182033096926714,\n",
              " 0.0013774104683195593,\n",
              " 0.0014727540500736377,\n",
              " 0.0015479876160990713,\n",
              " 0.0017301038062283738,\n",
              " 0.001968503937007874,\n",
              " 0.0022522522522522522,\n",
              " 0.0025380710659898475,\n",
              " 0.0029069767441860465]"
            ]
          },
          "metadata": {},
          "execution_count": 47
        }
      ]
    },
    {
      "cell_type": "code",
      "metadata": {
        "colab": {
          "base_uri": "https://localhost:8080/",
          "height": 283
        },
        "id": "7ksgGrA02so4",
        "outputId": "97035223-e244-4507-9140-a951f313bfe6"
      },
      "source": [
        "#find line of best fit\n",
        "model1 = np.poly1d(np.polyfit(OneMinusCosinusTheta, KANALdividedByOne, 1))\n",
        "#add points to plot\n",
        "plt.xlabel(\"(1 - cos(theta))\")\n",
        "plt.ylabel(\"1 / N\")\n",
        "plt.scatter(OneMinusCosinusTheta, KANALdividedByOne, color='green')\n",
        "plt.plot(OneMinusCosinusTheta, model1(OneMinusCosinusTheta), color='green')\n",
        "\n",
        "plt.show()\n",
        "\n",
        "#add line of best fit to plot\n",
        "#plt.plot(U, a * U + b)"
      ],
      "execution_count": null,
      "outputs": [
        {
          "output_type": "display_data",
          "data": {
            "image/png": "[encoded data removed]",
            "text/plain": [
              "<Figure size 432x288 with 1 Axes>"
            ]
          },
          "metadata": {
            "needs_background": "light"
          }
        }
      ]
    },
    {
      "cell_type": "code",
      "metadata": {
        "colab": {
          "base_uri": "https://localhost:8080/"
        },
        "id": "xX3DWivp3Ohx",
        "outputId": "015056b3-e9e0-42d9-b6c7-19d859db7788"
      },
      "source": [
        "print(model1)"
      ],
      "execution_count": null,
      "outputs": [
        {
          "output_type": "stream",
          "name": "stdout",
          "text": [
            " \n",
            "0.001375 x + 0.001056\n"
          ]
        }
      ]
    },
    {
      "cell_type": "code",
      "metadata": {
        "id": "QZhbblBe-Do0"
      },
      "source": [
        "N0 = 1 / model1(0)\n",
        "#N90 = model1(1) #is this right?\n",
        "#N90 = 1 / model1(1)\n",
        "N90 = 1 / model1(1)"
      ],
      "execution_count": null,
      "outputs": []
    },
    {
      "cell_type": "code",
      "metadata": {
        "colab": {
          "base_uri": "https://localhost:8080/"
        },
        "id": "I7YXiYB6IWN3",
        "outputId": "01b4c7c6-6803-48d0-f1ad-a5807da9c6ce"
      },
      "source": [
        "print(N0, N90)"
      ],
      "execution_count": null,
      "outputs": [
        {
          "output_type": "stream",
          "name": "stdout",
          "text": [
            "947.1675176025202 411.47254517964365\n"
          ]
        }
      ]
    },
    {
      "cell_type": "code",
      "metadata": {
        "id": "N6x3ZYjdLkG-"
      },
      "source": [
        "E_gamma = 661.7 #(кЭВ)"
      ],
      "execution_count": null,
      "outputs": []
    },
    {
      "cell_type": "code",
      "metadata": {
        "id": "vtBRNTV5L5WP"
      },
      "source": [
        "mckvadrat = E_gamma * N90 / (N0 - N90)"
      ],
      "execution_count": null,
      "outputs": []
    },
    {
      "cell_type": "code",
      "metadata": {
        "colab": {
          "base_uri": "https://localhost:8080/"
        },
        "id": "h2Bbs9hzMVwH",
        "outputId": "02efc8e8-313a-4ded-f375-2755ddd4cf5b"
      },
      "source": [
        "mckvadrat"
      ],
      "execution_count": null,
      "outputs": [
        {
          "output_type": "execute_result",
          "data": {
            "text/plain": [
              "508.25823866504334"
            ]
          },
          "metadata": {},
          "execution_count": 155
        }
      ]
    }
  ]
}